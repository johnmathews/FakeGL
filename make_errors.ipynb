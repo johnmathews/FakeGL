{
 "cells": [
  {
   "cell_type": "code",
   "execution_count": 1,
   "metadata": {
    "collapsed": true
   },
   "outputs": [],
   "source": [
    "import pandas as pd\n",
    "import random"
   ]
  },
  {
   "cell_type": "code",
   "execution_count": 2,
   "metadata": {
    "collapsed": false
   },
   "outputs": [
    {
     "data": {
      "text/plain": [
       "166628"
      ]
     },
     "execution_count": 2,
     "metadata": {},
     "output_type": "execute_result"
    }
   ],
   "source": [
    "# import our fake accounting data\n",
    "gl = pd.read_csv('gl.txt', sep = '|')\n",
    "tb = pd.read_csv('tb.txt', sep = '|')\n",
    "len(gl)"
   ]
  },
  {
   "cell_type": "code",
   "execution_count": 3,
   "metadata": {
    "collapsed": false
   },
   "outputs": [],
   "source": [
    "# choose 1 journal to remove from the GL\n",
    "j_list = gl.Journal_ID.unique()\n",
    "target = random.choice(j_list)\n",
    "glx = gl[gl.Journal_ID != target]\n"
   ]
  },
  {
   "cell_type": "code",
   "execution_count": 4,
   "metadata": {
    "collapsed": false
   },
   "outputs": [
    {
     "data": {
      "text/plain": [
       "array(['J_20160101_1', 'J_20160101_2', 'J_20160101_3', ...,\n",
       "       'J_20161230_15711', 'J_20161230_15712', 'J_20161230_15713'], dtype=object)"
      ]
     },
     "execution_count": 4,
     "metadata": {},
     "output_type": "execute_result"
    }
   ],
   "source": [
    "j_list"
   ]
  },
  {
   "cell_type": "code",
   "execution_count": 5,
   "metadata": {
    "collapsed": false
   },
   "outputs": [
    {
     "data": {
      "text/plain": [
       "'J_20161119_13930'"
      ]
     },
     "execution_count": 5,
     "metadata": {},
     "output_type": "execute_result"
    }
   ],
   "source": [
    "target"
   ]
  },
  {
   "cell_type": "code",
   "execution_count": 6,
   "metadata": {
    "collapsed": false
   },
   "outputs": [
    {
     "data": {
      "text/plain": [
       "123622    ACP00043\n",
       "123623    ACB00103\n",
       "123624    ACP00005\n",
       "123625    ACB00023\n",
       "123626    ACP00079\n",
       "123627    ACB00072\n",
       "123628    ACP00094\n",
       "123629    ACB00054\n",
       "123630    ACP00085\n",
       "123631    ACB00084\n",
       "123632    ACP00083\n",
       "123633    ACB00068\n",
       "123634    ACP00017\n",
       "123635    ACB00023\n",
       "123636    ACP00046\n",
       "123637    ACB00006\n",
       "123638    ACP00055\n",
       "123639    ACB00077\n",
       "123640    ACP00036\n",
       "123641    ACB00087\n",
       "123642    ACP00089\n",
       "123643    ACB00075\n",
       "123644    ACP00007\n",
       "123645    ACB00072\n",
       "Name: Account, dtype: object"
      ]
     },
     "execution_count": 6,
     "metadata": {},
     "output_type": "execute_result"
    }
   ],
   "source": [
    "gl[gl.Journal_ID=='J_20160928_11680'].Account"
   ]
  },
  {
   "cell_type": "code",
   "execution_count": 7,
   "metadata": {
    "collapsed": false
   },
   "outputs": [
    {
     "data": {
      "text/plain": [
       "123622    ACP00043\n",
       "123623    ACB00103\n",
       "123624    ACP00005\n",
       "123625    ACB00023\n",
       "123626    ACP00079\n",
       "123627    ACB00072\n",
       "123628    ACP00094\n",
       "123629    ACB00054\n",
       "123630    ACP00085\n",
       "123631    ACB00084\n",
       "123632    ACP00083\n",
       "123633    ACB00068\n",
       "123634    ACP00017\n",
       "123635    ACB00023\n",
       "123636    ACP00046\n",
       "123637    ACB00006\n",
       "123638    ACP00055\n",
       "123639    ACB00077\n",
       "123640    ACP00036\n",
       "123641    ACB00087\n",
       "123642    ACP00089\n",
       "123643    ACB00075\n",
       "123644    ACP00007\n",
       "123645    ACB00072\n",
       "Name: Account, dtype: object"
      ]
     },
     "execution_count": 7,
     "metadata": {},
     "output_type": "execute_result"
    }
   ],
   "source": [
    "glx[glx.Journal_ID=='J_20160928_11680'].Account"
   ]
  },
  {
   "cell_type": "code",
   "execution_count": 8,
   "metadata": {
    "collapsed": false
   },
   "outputs": [
    {
     "data": {
      "text/plain": [
       "6"
      ]
     },
     "execution_count": 8,
     "metadata": {},
     "output_type": "execute_result"
    }
   ],
   "source": [
    "# How many joural lines are removed\n",
    "len(gl)-len(glx)"
   ]
  },
  {
   "cell_type": "code",
   "execution_count": 9,
   "metadata": {
    "collapsed": false
   },
   "outputs": [],
   "source": [
    "# choose a few TB accounts to remove\n",
    "a_list = tb.Account.unique()\n",
    "target = random.sample(set(a_list), 5)\n",
    "tbx = tb[~tb.Account.isin(target)]"
   ]
  },
  {
   "cell_type": "code",
   "execution_count": 10,
   "metadata": {
    "collapsed": false
   },
   "outputs": [
    {
     "data": {
      "text/plain": [
       "5"
      ]
     },
     "execution_count": 10,
     "metadata": {},
     "output_type": "execute_result"
    }
   ],
   "source": [
    "# How many accounts are removed\n",
    "len(tb)-len(tbx)"
   ]
  },
  {
   "cell_type": "code",
   "execution_count": 11,
   "metadata": {
    "collapsed": true
   },
   "outputs": [],
   "source": [
    "# Write tbx, glx to file\n",
    "tbx.to_csv('tbx.txt', sep='|', encoding='utf-8', header=True, index=False)\n",
    "glx.to_csv('glx.txt', sep='|', encoding='utf-8', header=True, index=False)"
   ]
  },
  {
   "cell_type": "code",
   "execution_count": 12,
   "metadata": {
    "collapsed": false
   },
   "outputs": [
    {
     "name": "stdout",
     "output_type": "stream",
     "text": [
      "-2486.28\n",
      "1326.45\n"
     ]
    }
   ],
   "source": [
    "# Tbx does not balance\n",
    "print(\"%.2f\" % tbx['Balance b/f'].sum())\n",
    "print(\"%.2f\" % tbx['Balance c/f'].sum())"
   ]
  },
  {
   "cell_type": "code",
   "execution_count": null,
   "metadata": {
    "collapsed": true
   },
   "outputs": [],
   "source": []
  }
 ],
 "metadata": {
  "kernelspec": {
   "display_name": "Python 3",
   "language": "python",
   "name": "python3"
  },
  "language_info": {
   "codemirror_mode": {
    "name": "ipython",
    "version": 3
   },
   "file_extension": ".py",
   "mimetype": "text/x-python",
   "name": "python",
   "nbconvert_exporter": "python",
   "pygments_lexer": "ipython3",
   "version": "3.5.2"
  }
 },
 "nbformat": 4,
 "nbformat_minor": 0
}
